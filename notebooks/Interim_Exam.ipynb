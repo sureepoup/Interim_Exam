{
 "cells": [
  {
   "cell_type": "code",
   "execution_count": 124,
   "metadata": {
    "collapsed": true
   },
   "outputs": [],
   "source": [
    "import numpy as np\n",
    "from matplotlib import pyplot as plt\n",
    "import matplotlib\n"
   ]
  },
  {
   "cell_type": "markdown",
   "source": [
    "# Loading data"
   ],
   "metadata": {
    "collapsed": false
   }
  },
  {
   "cell_type": "code",
   "execution_count": 125,
   "outputs": [],
   "source": [
    "data = np.genfromtxt('test_scores.csv', delimiter=',')\n",
    "y_pred = data[1:, 0]\n",
    "y_test = data[1:, 1]"
   ],
   "metadata": {
    "collapsed": false,
    "pycharm": {
     "name": "#%%\n"
    }
   }
  },
  {
   "cell_type": "code",
   "execution_count": 126,
   "outputs": [
    {
     "name": "stdout",
     "output_type": "stream",
     "text": [
      "The first 5 elements of y_pred array: [0.66555667 0.64145579 0.29815241 0.23769427 0.35765615]\n",
      "The first 5 elements of y_test array: [1. 1. 0. 0. 0.]\n"
     ]
    }
   ],
   "source": [
    "print(\"The first 5 elements of y_pred array:\", y_pred[:5])\n",
    "print(\"The first 5 elements of y_test array:\", y_test[:5])"
   ],
   "metadata": {
    "collapsed": false,
    "pycharm": {
     "name": "#%%\n"
    }
   }
  },
  {
   "cell_type": "markdown",
   "source": [
    "# Secondary functions"
   ],
   "metadata": {
    "collapsed": false,
    "pycharm": {
     "name": "#%% md\n"
    }
   }
  },
  {
   "cell_type": "code",
   "execution_count": 127,
   "outputs": [],
   "source": [
    "def FPR_FNR_calc(y_test, y_pred):\n",
    "    TP = 0\n",
    "    FN = 0\n",
    "    FP = 0\n",
    "    TN = 0\n",
    "\n",
    "    for i in range(len(y_pred)):\n",
    "        if y_test[i]==y_pred[i]==1:\n",
    "           TP += 1\n",
    "        if y_pred[i]==0 and y_test[i]!=y_pred[i]:\n",
    "           FN += 1\n",
    "        if y_pred[i]==1 and y_test[i]!=y_pred[i]:\n",
    "           FP += 1\n",
    "        if y_test[i]==y_pred[i]==0:\n",
    "           TN += 1\n",
    "\n",
    "\n",
    "    FPR = FP/(FP+TN)\n",
    "    FNR = FN/(FN + TP)\n",
    "    return FPR, FNR"
   ],
   "metadata": {
    "collapsed": false,
    "pycharm": {
     "name": "#%%\n"
    }
   }
  },
  {
   "cell_type": "code",
   "execution_count": 128,
   "outputs": [],
   "source": [
    "def FPR_FNR_lists(y_test, y_pred):\n",
    "    \"\"\"\n",
    "    На вход подаются y_test, y_pred\n",
    "    Возвращает 2 списка: FPR, FNR\n",
    "    \"\"\"\n",
    "    thresholds = np.linspace(0, 1, num=101)\n",
    "    FPR_lst = np.empty(len(thresholds))\n",
    "    FNR_lst = np.empty(len(thresholds))\n",
    "\n",
    "\n",
    "    for i in range(len(thresholds)):\n",
    "        y_pred_trnsfrmd = y_pred.copy()\n",
    "        y_pred_trnsfrmd[y_pred_trnsfrmd > thresholds[i]] = 1.0\n",
    "        y_pred_trnsfrmd[y_pred_trnsfrmd <= thresholds[i]] = 0.0\n",
    "        FPR, FNR = FPR_FNR_calc(y_test, y_pred_trnsfrmd)\n",
    "\n",
    "        FPR_lst[i] = FPR\n",
    "        FNR_lst[i] = FNR\n",
    "\n",
    "\n",
    "    return FPR_lst, FNR_lst"
   ],
   "metadata": {
    "collapsed": false,
    "pycharm": {
     "name": "#%%\n"
    }
   }
  },
  {
   "cell_type": "code",
   "execution_count": 129,
   "outputs": [],
   "source": [
    "def EER_calc(FPR_lst, FNR_lst):\n",
    "    EER = []\n",
    "\n",
    "    FPR = FPR_lst[np.nanargmin(np.absolute((FNR_lst - FPR_lst)))]\n",
    "    FNR = FNR_lst[np.nanargmin(np.absolute((FNR_lst - FPR_lst)))]\n",
    "    EER.append(FPR)\n",
    "    EER.append(FNR)\n",
    "\n",
    "    return EER"
   ],
   "metadata": {
    "collapsed": false,
    "pycharm": {
     "name": "#%%\n"
    }
   }
  },
  {
   "cell_type": "markdown",
   "source": [
    "# Plot function"
   ],
   "metadata": {
    "collapsed": false,
    "pycharm": {
     "name": "#%% md\n"
    }
   }
  },
  {
   "cell_type": "code",
   "execution_count": 130,
   "outputs": [],
   "source": [
    "def plot_DET_curve(y_pred, y_test):\n",
    "    FPR_lst, FNR_lst = FPR_FNR_lists(y_pred, y_test)\n",
    "    EER = EER_calc(FPR_lst, FNR_lst)\n",
    "    axis_min = min(FPR_lst[0],FNR_lst[-1])\n",
    "    fig,ax = plt.subplots()\n",
    "    plt.plot(FPR_lst,FNR_lst)\n",
    "    plt.yscale('log')\n",
    "    plt.xscale('log')\n",
    "    ticks_to_use = [0.001,0.002,0.005,0.01,0.02,0.05,0.1,0.2,0.5,1,2,5,10,20,50]\n",
    "    ax.get_xaxis().set_major_formatter(matplotlib.ticker.ScalarFormatter())\n",
    "    ax.get_yaxis().set_major_formatter(matplotlib.ticker.ScalarFormatter())\n",
    "    ax.set_xticks(ticks_to_use)\n",
    "    ax.set_yticks(ticks_to_use)\n",
    "    plt.xlabel(\"FPR (%)\")\n",
    "    plt.ylabel(\"FNR (%)\")\n",
    "    plt.axis([0.001,50,0.001,50])\n",
    "    plt.scatter(EER[0], EER[1])"
   ],
   "metadata": {
    "collapsed": false,
    "pycharm": {
     "name": "#%%\n"
    }
   }
  },
  {
   "cell_type": "code",
   "execution_count": 131,
   "outputs": [
    {
     "data": {
      "text/plain": "<Figure size 432x288 with 1 Axes>",
      "image/png": "[encoded data removed]"
     },
     "metadata": {
      "needs_background": "light"
     },
     "output_type": "display_data"
    }
   ],
   "source": [
    "plot_DET_curve(y_pred, y_test)\n"
   ],
   "metadata": {
    "collapsed": false,
    "pycharm": {
     "name": "#%%\n"
    }
   }
  },
  {
   "cell_type": "raw",
   "source": [
    "Проблема, скорее всего, в ячейке, в которой происходит цикл по массиву порогов.\n",
    "FNR_lst, FPR_lst заполняются одними и теми же значениями"
   ],
   "metadata": {
    "collapsed": false
   }
  },
  {
   "cell_type": "code",
   "execution_count": 133,
   "outputs": [],
   "source": [
    "FNR_lst, FPR_lst = FPR_FNR_lists(y_test, y_pred)\n"
   ],
   "metadata": {
    "collapsed": false,
    "pycharm": {
     "name": "#%%\n"
    }
   }
  }
 ],
 "metadata": {
  "kernelspec": {
   "display_name": "Python 3",
   "language": "python",
   "name": "python3"
  },
  "language_info": {
   "codemirror_mode": {
    "name": "ipython",
    "version": 2
   },
   "file_extension": ".py",
   "mimetype": "text/x-python",
   "name": "python",
   "nbconvert_exporter": "python",
   "pygments_lexer": "ipython2",
   "version": "2.7.6"
  }
 },
 "nbformat": 4,
 "nbformat_minor": 0
}